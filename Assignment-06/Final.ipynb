{
 "cells": [
  {
   "cell_type": "code",
   "execution_count": 1,
   "metadata": {},
   "outputs": [],
   "source": [
    "import heapq\n",
    "import itertools\n",
    "import matplotlib.pyplot as plt\n",
    "import random\n",
    "import pickle\n",
    "from math import atan2\n"
   ]
  },
  {
   "cell_type": "code",
   "execution_count": 2,
   "metadata": {},
   "outputs": [],
   "source": [
    "def to_convex_contour(vertices_count,\n",
    "                      x_limits,\n",
    "                      y_limits):\n",
    "    \"\"\"\n",
    "    Port of Valtr algorithm by Sander Verdonschot on stack overflow:\n",
    "    https://stackoverflow.com/questions/6758083/how-to-generate-a-random-convex-polygon,\n",
    "\n",
    "    Reference:\n",
    "        http://cglab.ca/~sander/misc/ConvexGeneration/ValtrAlgorithm.java\n",
    "    \"\"\"\n",
    "    xs = set()\n",
    "    ys = set()\n",
    "    \n",
    "    while len(xs) != vertices_count:\n",
    "        xs.add(random.randint(x_limits[0], x_limits[1]))\n",
    "    \n",
    "    while len(ys) != vertices_count:\n",
    "        ys.add(random.randint(y_limits[0], y_limits[1]))\n",
    "\n",
    "    xs = sorted(list(xs))\n",
    "    ys = sorted(list(ys))\n",
    "    min_x, *xs, max_x = xs\n",
    "    min_y, *ys, max_y = ys\n",
    "    vectors_xs = _to_vectors_coordinates(xs, min_x, max_x)\n",
    "    vectors_ys = _to_vectors_coordinates(ys, min_y, max_y)\n",
    "    random.shuffle(vectors_ys)\n",
    "\n",
    "    def to_vector_angle(vector):\n",
    "        x, y = vector\n",
    "        return atan2(y, x)\n",
    "\n",
    "    vectors = sorted(zip(vectors_xs, vectors_ys),\n",
    "                     key=to_vector_angle)\n",
    "    point_x = point_y = 0\n",
    "    min_polygon_x = min_polygon_y = 0\n",
    "    points = []\n",
    "    for vector_x, vector_y in vectors:\n",
    "        points.append((point_x, point_y))\n",
    "        point_x += vector_x\n",
    "        point_y += vector_y\n",
    "        min_polygon_x = min(min_polygon_x, point_x)\n",
    "        min_polygon_y = min(min_polygon_y, point_y)\n",
    "    shift_x, shift_y = min_x - min_polygon_x, min_y - min_polygon_y\n",
    "    return [(point_x + shift_x, point_y + shift_y)\n",
    "            for point_x, point_y in points]\n",
    "\n",
    "\n",
    "def _to_vectors_coordinates(coordinates, min_coordinate, max_coordinate):\n",
    "    last_min = last_max = min_coordinate\n",
    "    result = []\n",
    "    for coordinate in coordinates:\n",
    "        if _to_random_boolean():\n",
    "            result.append(coordinate - last_min)\n",
    "            last_min = coordinate\n",
    "        else:\n",
    "            result.append(last_max - coordinate)\n",
    "            last_max = coordinate\n",
    "    result.extend((max_coordinate - last_min,\n",
    "                   last_max - max_coordinate))\n",
    "    return result\n",
    "\n",
    "\n",
    "def _to_random_boolean():\n",
    "    return random.getrandbits(1)"
   ]
  },
  {
   "cell_type": "code",
   "execution_count": 3,
   "metadata": {},
   "outputs": [],
   "source": [
    "plt.rcParams[\"figure.figsize\"] = (10,10)"
   ]
  },
  {
   "cell_type": "code",
   "execution_count": 4,
   "metadata": {},
   "outputs": [],
   "source": [
    "class Polygon(object):\n",
    "    __slots__ = ['no_vertices', 'vertices', 'edges']\n",
    "\n",
    "    def __init__(self, no_vertices, vertices):\n",
    "        self.no_vertices = no_vertices\n",
    "        self.vertices = vertices[:]\n",
    "        self.create_edges()\n",
    "\n",
    "    def create_edges(self):\n",
    "        self.edges = []\n",
    "        for i in range(0, len(self.vertices)-1):\n",
    "            self.edges.append(Line(self.vertices[i], self.vertices[i+1]))\n",
    "        self.edges.append(Line(self.vertices[-1], self.vertices[0]))\n",
    "\n",
    "    def plot(self):\n",
    "        vertices = self.vertices\n",
    "        vertices.append(vertices[0])\n",
    "        for i in range(len(vertices)-1):\n",
    "            plt.plot([vertices[i][0], vertices[i+1][0]], [vertices[i][1], vertices[i+1][1]], 'b')\n"
   ]
  },
  {
   "cell_type": "code",
   "execution_count": 5,
   "metadata": {},
   "outputs": [],
   "source": [
    "class Line(object):\n",
    "    __slots__ = ['start', 'end']\n",
    "\n",
    "    def __init__(self, start, end):\n",
    "        self.start = start\n",
    "        self.end = end\n",
    "\n",
    "    def is_intersecting(self , other):\n",
    "        start_point, end_point = other.start, other.end\n",
    "\n",
    "        if self.end[0] != self.start[0]:\n",
    "            m_self =  (self.end[1] - self.start[1]) / (self.end[0] - self.start[0])\n",
    "            c_self = self.end[1] - (m_self * self.end[0])\n",
    "\n",
    "            # eqn of line is m x - y + c = 0\n",
    "\n",
    "            sign_start = (start_point[0] * m_self) - start_point[1] + c_self\n",
    "            sign_end = (end_point[0] * m_self ) - end_point[1] + c_self\n",
    "        else:\n",
    "            # eqn is x - c = 0\n",
    "            c_self = self.end[0]\n",
    "            sign_start = start_point[0] - c_self\n",
    "            sign_end = end_point[0] - c_self\n",
    "\n",
    "        if sign_start == 0 and sign_end == 0:\n",
    "            return False\n",
    "        \n",
    "        sign_start = sign_start > 0\n",
    "        sign_end = sign_end > 0\n",
    "\n",
    "        return not sign_start == sign_end\n",
    "    \n",
    "\n",
    "    def length(self):\n",
    "        return ((self.start[0] - self.end[0])**2 + (self.start[1] - self.end[1])**2)**0.5\n"
   ]
  },
  {
   "cell_type": "code",
   "execution_count": 58,
   "metadata": {},
   "outputs": [],
   "source": [
    "class State(object):\n",
    "    __slots__ = ['point', 'distance_from_start', 'goal', 'parent']\n",
    "\n",
    "    def __init__(self, point, distance_from_start, goal, parent):\n",
    "        self.point = point\n",
    "        self.distance_from_start = distance_from_start\n",
    "        self.goal = goal\n",
    "        self.parent = parent\n",
    "\n",
    "    def generate_successors(self, obstacles):\n",
    "        line = Line(self.point, self.goal)\n",
    "        if check_intersection(line, obstacles) == False:\n",
    "            return [State(self.goal, self.distance_from_start + line.length(), self.goal, self)]\n",
    "\n",
    "        successors = []\n",
    "        # for obstacle in obstacles:\n",
    "        #     for vertex in obstacle.vertices:\n",
    "        #         line = Line(self.point, vertex)\n",
    "        #         if check_intersection(line, obstacles) == False:\n",
    "        #             successors.append(State(vertex, self.distance_from_start + line.length(), self.goal, self))\n",
    "        for x_add, y_add in itertools.product([-1, 0, 1], [-1, 0, 1]):\n",
    "            if x_add == 0 and y_add == 0:\n",
    "                continue\n",
    "            new_point = tuple((self.point[0] + x_add, self.point[1] + y_add))\n",
    "            if not valid_point(new_point, (0, 50), (0, 50)):\n",
    "                continue\n",
    "            line = Line(self.point, new_point)\n",
    "            if check_intersection(line, obstacles) == False:\n",
    "                successors.append(State(new_point, self.distance_from_start + line.length(), self.goal, self))\n",
    "        \n",
    "        return successors\n",
    "        \n",
    "    def heuristics(self):\n",
    "        line = Line(self.point, self.goal)\n",
    "        return self.distance_from_start + line.length()\n",
    "\n",
    "    def goal_test(self):\n",
    "        return self.point == self.goal\n",
    "\n",
    "    def __lt__(self, other):\n",
    "        return self.heuristics() < other.heuristics()\n",
    "    \n",
    "    def __gt__(self, other):\n",
    "        return self.heuristics() > other.heuristics()\n",
    "\n",
    "    def __str__(self):\n",
    "        return str(self.point)\n",
    "\n",
    "    def __eq__(self, other):\n",
    "        return self.point == other.point\n",
    "    \n",
    "    def __hash__(self):\n",
    "        s = str(self.point)\n",
    "        return hash(s)"
   ]
  },
  {
   "cell_type": "code",
   "execution_count": 59,
   "metadata": {},
   "outputs": [],
   "source": [
    "def generate_obstacles():\n",
    "    epsison = 0.3\n",
    "    obstacle_list = []\n",
    "    for i in range(0,5):\n",
    "        for j in range(0,5):\n",
    "            if random.uniform(0, 1) < epsison:\n",
    "                continue\n",
    "            # if i == 0 and j == 0:\n",
    "            #     continue\n",
    "            sides = random.randint(3,8)\n",
    "            vertices = to_convex_contour(sides,((i*10)+1, (i+1)*10 - 2), ((j*10)+1, (j+1)*10 - 2) )\n",
    "            obstacle_list.append(Polygon(sides, vertices))\n",
    "\n",
    "    return obstacle_list"
   ]
  },
  {
   "cell_type": "code",
   "execution_count": 60,
   "metadata": {},
   "outputs": [],
   "source": [
    "def valid_point(point, x_lim, y_lim):\n",
    "    if point[0] < x_lim[0] or point[0] > x_lim[1] or point[1] < y_lim[0] or point[1] > y_lim[1]:\n",
    "        return False\n",
    "    return True"
   ]
  },
  {
   "cell_type": "code",
   "execution_count": 124,
   "metadata": {},
   "outputs": [],
   "source": [
    "def plot_polygons(polygons, start, end):\n",
    "    plt.scatter([start[0], end[0]], [start[1], end[1]], c='g')\n",
    "    for polygon in polygons:\n",
    "        polygon.plot()\n",
    "    # for i in range(len(route) - 1):\n",
    "    #     plt.plot([route[i][0], route[i+1][0]], [route[i][1], route[i+1][1]], 'r--')    \n",
    "\n",
    "    plt.grid(b=True, which='major', color='#666666', linestyle='-')\n",
    "    plt.minorticks_on()\n",
    "    plt.grid(b=True, which='minor', color='#999999', linestyle='-', alpha=0.2)\n",
    "\n",
    "    plt.annotate('Goal', xy=(50, 50),  xycoords='data',\n",
    "             xytext=(52, 52), textcoords='offset points',\n",
    "             size=15, ha='right', va=\"center\",\n",
    "             bbox=dict(boxstyle=\"round\", alpha=0.1),\n",
    "             arrowprops=dict(arrowstyle='->', alpha=0.3))\n",
    "    plt.annotate('Source', xy=(0, 0),  xycoords='data',\n",
    "             xytext=(-2, -2), textcoords='offset points',\n",
    "             size=15, ha='right', va=\"center\",\n",
    "             bbox=dict(boxstyle=\"round\", alpha=0.1),\n",
    "             arrowprops=dict(arrowstyle='->', alpha=0.3));\n",
    "\n",
    "    plt.savefig('op.png')\n"
   ]
  },
  {
   "cell_type": "code",
   "execution_count": 125,
   "metadata": {},
   "outputs": [],
   "source": [
    "def check_intersection(line, obstacles):\n",
    "    edges = [edge for obstacle in obstacles for edge in obstacle.edges ]\n",
    "    for edge in edges:\n",
    "        if line.is_intersecting(edge):\n",
    "            return True\n",
    "    return False"
   ]
  },
  {
   "cell_type": "code",
   "execution_count": 126,
   "metadata": {},
   "outputs": [],
   "source": [
    "def solve(start_point, goal_point, obstacles):\n",
    "    start_state = State(start_point, 0.0, goal_point, None)\n",
    "\n",
    "    bag_of_states = []\n",
    "    explored = set()\n",
    "    heapq.heappush(bag_of_states, start_state)\n",
    "    while len(bag_of_states):\n",
    "        current_state = heapq.heappop(bag_of_states)\n",
    "        explored.add(current_state)\n",
    "#         print(explored)\n",
    "        if current_state.goal_test():\n",
    "            return current_state, True\n",
    "        \n",
    "        for next_state in current_state.generate_successors(obstacles):\n",
    "            if next_state not in explored:\n",
    "                heapq.heappush(bag_of_states, next_state)\n",
    "        \n",
    "    print(len(explored))\n",
    "    for state in explored:\n",
    "        print(str(state))\n",
    "    if len(bag_of_states):\n",
    "        return heapq.heappop(bag_of_states), False\n",
    "    return None, False"
   ]
  },
  {
   "cell_type": "code",
   "execution_count": 127,
   "metadata": {},
   "outputs": [],
   "source": [
    "def get_path(cur_state, points):\n",
    "    if cur_state.parent is None:\n",
    "        points = [cur_state.point] + points\n",
    "        return points\n",
    "    points = [cur_state.point] + points\n",
    "    return get_path(cur_state.parent, points)"
   ]
  },
  {
   "cell_type": "code",
   "execution_count": 128,
   "metadata": {},
   "outputs": [],
   "source": [
    "start_point = (0, 0)\n",
    "end_point = (50, 50)\n",
    "\n",
    "# dbfile = open(\"edge.pkl\", 'rb')\n",
    "# obstacles = pickle.load(dbfile)\n",
    "\n",
    "obstacles = generate_obstacles()\n",
    "dbfile = open('obstacle.pkl', 'wb')\n",
    "pickle.dump(obstacles, dbfile)"
   ]
  },
  {
   "cell_type": "code",
   "execution_count": 129,
   "metadata": {},
   "outputs": [],
   "source": [
    "end_state, solution = solve(start_point, end_point, obstacles)"
   ]
  },
  {
   "cell_type": "code",
   "execution_count": 130,
   "metadata": {},
   "outputs": [
    {
     "data": {
      "text/plain": [
       "'(50, 50)'"
      ]
     },
     "execution_count": 130,
     "metadata": {},
     "output_type": "execute_result"
    }
   ],
   "source": [
    "str(end_state)"
   ]
  },
  {
   "cell_type": "code",
   "execution_count": 131,
   "metadata": {},
   "outputs": [
    {
     "name": "stdout",
     "output_type": "stream",
     "text": [
      "Path: [(0, 0), (1, 0), (2, 0), (3, 0), (4, 0), (5, 0), (6, 0), (7, 0), (8, 0), (9, 0), (10, 0), (11, 0), (12, 0), (13, 0), (14, 1), (15, 2), (16, 3), (17, 4), (18, 5), (19, 6), (20, 7), (21, 8), (22, 9), (23, 10), (24, 11), (25, 12), (26, 13), (27, 14), (28, 15), (29, 16), (30, 17), (31, 18), (32, 19), (33, 20), (34, 21), (35, 22), (36, 23), (37, 24), (38, 25), (39, 26), (40, 27), (41, 28), (42, 29), (43, 30), (44, 31), (45, 32), (46, 33), (47, 34), (48, 35), (49, 36), (50, 37), (50, 50)]\n",
      "Cost: 78.32590180780447\n"
     ]
    },
    {
     "data": {
      "image/png": "[encoded data removed]",
      "text/plain": [
       "<Figure size 720x720 with 1 Axes>"
      ]
     },
     "metadata": {
      "needs_background": "light"
     },
     "output_type": "display_data"
    }
   ],
   "source": [
    "if solution:\n",
    "    path = get_path(end_state, [])\n",
    "    for i in range(len(path)-1):\n",
    "        plt.plot([path[i][0], path[i+1][0]], [path[i][1], path[i+1][1]], 'r--')\n",
    "    print('Path: ' + str(path))\n",
    "    print('Cost: ' + str(end_state.distance_from_start))\n",
    "else:\n",
    "    # if end_state is not None:\n",
    "    #     path = get_path(end_state, [])\n",
    "    #     for i in range(len(path)-1):\n",
    "    #         plt.plot([path[i][0], path[i+1][0]], [path[i][1], path[i+1][1]], 'r--')\n",
    "    print('No solution!')\n",
    "plot_polygons(obstacles, start_point, end_point)"
   ]
  },
  {
   "cell_type": "code",
   "execution_count": null,
   "metadata": {},
   "outputs": [],
   "source": []
  },
  {
   "cell_type": "code",
   "execution_count": null,
   "metadata": {},
   "outputs": [],
   "source": []
  },
  {
   "cell_type": "code",
   "execution_count": null,
   "metadata": {},
   "outputs": [],
   "source": []
  }
 ],
 "metadata": {
  "kernelspec": {
   "display_name": "Python 3",
   "language": "python",
   "name": "python3"
  },
  "language_info": {
   "codemirror_mode": {
    "name": "ipython",
    "version": 3
   },
   "file_extension": ".py",
   "mimetype": "text/x-python",
   "name": "python",
   "nbconvert_exporter": "python",
   "pygments_lexer": "ipython3",
   "version": "3.8.3"
  }
 },
 "nbformat": 4,
 "nbformat_minor": 2
}
